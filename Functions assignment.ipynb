{
 "cells": [
  {
   "cell_type": "markdown",
   "id": "e1c12a82-a825-48c3-97a7-99d23a7d5040",
   "metadata": {},
   "source": [
    " Q1. Which keyword is used to create a function? Create a function to return a list of odd numbers in the\n",
    "range of 1 to 25."
   ]
  },
  {
   "cell_type": "markdown",
   "id": "7684053b-35c7-493e-95ae-e18aceef5504",
   "metadata": {},
   "source": [
    "    1. 'def' keyword is used to create a function"
   ]
  },
  {
   "cell_type": "code",
   "execution_count": 10,
   "id": "46151de3-0dd3-4580-8fa4-a7b015dae4a7",
   "metadata": {},
   "outputs": [],
   "source": [
    "def odd_numbers():\n",
    "    odd = []\n",
    "    for i in range(1,25):\n",
    "        if i % 2 != 0:\n",
    "            odd.append(i)\n",
    "    return odd"
   ]
  },
  {
   "cell_type": "code",
   "execution_count": 11,
   "id": "bdc9a391-6104-4a7f-a10a-b9aad823849c",
   "metadata": {},
   "outputs": [
    {
     "data": {
      "text/plain": [
       "[1, 3, 5, 7, 9, 11, 13, 15, 17, 19, 21, 23]"
      ]
     },
     "execution_count": 11,
     "metadata": {},
     "output_type": "execute_result"
    }
   ],
   "source": [
    "odd_numbers()"
   ]
  },
  {
   "cell_type": "markdown",
   "id": "5d5d0a25-36b3-4ce2-a398-207b3ce680e8",
   "metadata": {},
   "source": [
    " Q2. Why *args and **kwargs is used in some functions? Create a function each for *args and **kwargs to\n",
    "demonstrate their use. "
   ]
  },
  {
   "cell_type": "markdown",
   "id": "219bfa7a-0f5e-40b3-af48-bdddff10c55a",
   "metadata": {},
   "source": [
    "    2. *args = is used to pass 'n' number of arguments to a function and return as a tuple\n",
    "        **kwargs = is used to pass the 'n' number of arguments as keywords and return as a key-value pair  "
   ]
  },
  {
   "cell_type": "code",
   "execution_count": 40,
   "id": "cf688daa-a4da-4077-b91f-1d6a9797553e",
   "metadata": {},
   "outputs": [],
   "source": [
    "def arguments(*args):\n",
    "    a = []\n",
    "    for i in args:\n",
    "        if i%2==0:\n",
    "            a.append(i)\n",
    "    return a\n",
    "        "
   ]
  },
  {
   "cell_type": "code",
   "execution_count": 41,
   "id": "ea48c7bc-c8fb-4899-8866-81d91b8ffd20",
   "metadata": {},
   "outputs": [
    {
     "data": {
      "text/plain": [
       "[2, 4, 6, 8, 10]"
      ]
     },
     "execution_count": 41,
     "metadata": {},
     "output_type": "execute_result"
    }
   ],
   "source": [
    "arguments(1,2,3,4,5,6,7,8,9,10)"
   ]
  },
  {
   "cell_type": "code",
   "execution_count": 42,
   "id": "d0ebbe3a-d1d5-4dd7-adde-bbe6246da3ce",
   "metadata": {},
   "outputs": [],
   "source": [
    "def kwarguments(**kwargs):\n",
    "    return kwargs"
   ]
  },
  {
   "cell_type": "code",
   "execution_count": 43,
   "id": "b8f8d205-7a27-4392-abab-73ac8d7129a4",
   "metadata": {},
   "outputs": [
    {
     "data": {
      "text/plain": [
       "{'a': 'Bhanu', 'b': 'prasad'}"
      ]
     },
     "execution_count": 43,
     "metadata": {},
     "output_type": "execute_result"
    }
   ],
   "source": [
    "kwarguments(a=\"Bhanu\", b=\"prasad\")"
   ]
  },
  {
   "cell_type": "markdown",
   "id": "5903847e-22f6-4be1-a181-d5ef4d23504d",
   "metadata": {},
   "source": [
    " Q3. What is an iterator in python? Name the method used to initialise the iterator object and the method\n",
    "used for iteration. Use these methods to print the first five elements of the given list [2, 4, 6, 8, 10, 12, 14, 16,\n",
    "18, 20]."
   ]
  },
  {
   "cell_type": "markdown",
   "id": "8fb06331-2e1e-4536-a6c3-0711ed3ff6d8",
   "metadata": {},
   "source": [
    "    3.Iterator is an object, it allows to traverse through the elements in the loops,mainly iterators are used in loops\n",
    "        \n",
    "    the method used to initialize an iterator object is 'iter()',and method used for iteration is 'next()'"
   ]
  },
  {
   "cell_type": "code",
   "execution_count": 45,
   "id": "ff8f9715-3ead-4196-aefa-6d41ae7670da",
   "metadata": {},
   "outputs": [
    {
     "name": "stdout",
     "output_type": "stream",
     "text": [
      "2\n",
      "4\n",
      "6\n",
      "8\n"
     ]
    }
   ],
   "source": [
    "iter_list = iter([2, 4, 6, 8, 10, 12, 14, 16, 18, 20])\n",
    "for i in range(1,5):\n",
    "    print(next(iter_list))\n"
   ]
  },
  {
   "cell_type": "markdown",
   "id": "a8ba65d0-7335-436e-90a0-ee9669fd164d",
   "metadata": {},
   "source": [
    " Q4. What is a generator function in python? Why yield keyword is used? Give an example of a generator\n",
    "function."
   ]
  },
  {
   "cell_type": "markdown",
   "id": "d5fb2540-b59f-416e-a4d8-6d313410693b",
   "metadata": {},
   "source": [
    "    4.Genetator function is a special type of function, unlike regular functions that returns a single value and exit,generator function can yield multiple values "
   ]
  },
  {
   "cell_type": "markdown",
   "id": "6dea8637-03f0-4e7b-a6c1-e4603094963d",
   "metadata": {},
   "source": [
    "    it uses 'yield' keyword, that is used in generator functions to return a value to the caller and temporarily suspend the execution of the function. When the function is called again, it resumes execution from where it left off, it does not stores the location in the memory"
   ]
  },
  {
   "cell_type": "code",
   "execution_count": 46,
   "id": "272d8b76-a951-4e01-8831-d3bae39ca0ab",
   "metadata": {},
   "outputs": [],
   "source": [
    "def test_fib(n):\n",
    "    a,b=0,1\n",
    "    for i in range(n):\n",
    "        yield a\n",
    "        a,b=b,a+b"
   ]
  },
  {
   "cell_type": "code",
   "execution_count": 47,
   "id": "abd2d0de-4f4e-48dd-9601-de794c7c8795",
   "metadata": {},
   "outputs": [
    {
     "name": "stdout",
     "output_type": "stream",
     "text": [
      "0\n",
      "1\n",
      "1\n",
      "2\n",
      "3\n",
      "5\n",
      "8\n",
      "13\n",
      "21\n",
      "34\n"
     ]
    }
   ],
   "source": [
    "for i in test_fib(10):\n",
    "    print(i)"
   ]
  },
  {
   "cell_type": "markdown",
   "id": "4b84bee0-d728-4856-a4ac-5c34b7c3fd21",
   "metadata": {},
   "source": [
    " Q5. Create a generator function for prime numbers less than 1000. Use the next() method to print the\n",
    "first 20 prime numbers."
   ]
  },
  {
   "cell_type": "markdown",
   "id": "26b060da-c943-4757-9c90-88e48118be6b",
   "metadata": {},
   "source": [
    "    5. Generator function to print prime numbers less than 1000"
   ]
  },
  {
   "cell_type": "code",
   "execution_count": 48,
   "id": "e863925a-3a5a-4dc0-bb65-6473dc56d0ef",
   "metadata": {},
   "outputs": [
    {
     "name": "stdout",
     "output_type": "stream",
     "text": [
      "2\n",
      "3\n",
      "5\n",
      "7\n",
      "11\n",
      "13\n",
      "17\n",
      "19\n",
      "23\n",
      "29\n",
      "31\n",
      "37\n",
      "41\n",
      "43\n",
      "47\n",
      "53\n",
      "59\n",
      "61\n",
      "67\n",
      "71\n"
     ]
    }
   ],
   "source": [
    "def primes():\n",
    "    yield 2\n",
    "    primes_list = [2]\n",
    "    for i in range(3, 1000):\n",
    "        is_prime = True\n",
    "        for prime in primes_list:\n",
    "            if i % prime == 0:\n",
    "                is_prime = False\n",
    "                break\n",
    "        if is_prime:\n",
    "            primes_list.append(i)\n",
    "            yield i\n",
    "\n",
    "prime_gen = primes()\n",
    "for i in range(20):\n",
    "    print(next(prime_gen))\n",
    "    "
   ]
  },
  {
   "cell_type": "code",
   "execution_count": null,
   "id": "b4eae9e6-b9f5-440d-8e45-8750cf24f856",
   "metadata": {},
   "outputs": [],
   "source": []
  }
 ],
 "metadata": {
  "kernelspec": {
   "display_name": "Python 3 (ipykernel)",
   "language": "python",
   "name": "python3"
  },
  "language_info": {
   "codemirror_mode": {
    "name": "ipython",
    "version": 3
   },
   "file_extension": ".py",
   "mimetype": "text/x-python",
   "name": "python",
   "nbconvert_exporter": "python",
   "pygments_lexer": "ipython3",
   "version": "3.10.8"
  }
 },
 "nbformat": 4,
 "nbformat_minor": 5
}
