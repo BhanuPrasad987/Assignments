{
 "cells": [
  {
   "cell_type": "markdown",
   "id": "6128b28e-8258-4557-83cd-94b14bb6b666",
   "metadata": {},
   "source": [
    "Question 1"
   ]
  },
  {
   "cell_type": "markdown",
   "id": "ded28453-66b3-44b6-bd04-5b9b3503e016",
   "metadata": {},
   "source": [
    "         (i) var1 = \"Bhanu\" \n",
    "        (ii) var2 = [1,2,3] \n",
    "        (iii)var3 = 22.7 \n",
    "        (iv) var4 = (1, 2, 3)"
   ]
  },
  {
   "cell_type": "markdown",
   "id": "6238f1a7-44ea-456a-9806-2969512ac010",
   "metadata": {},
   "source": [
    "Question 2"
   ]
  },
  {
   "cell_type": "markdown",
   "id": "9d23b896-be62-4522-b0b8-d2686b2583bd",
   "metadata": {},
   "source": [
    "    (i) String \n",
    "    (ii)String\n",
    "    (iii)List\n",
    "    (iv) float"
   ]
  },
  {
   "cell_type": "markdown",
   "id": "d6f00195-80bb-4572-9377-30fce2481bf8",
   "metadata": {},
   "source": [
    "Question 3"
   ]
  },
  {
   "cell_type": "markdown",
   "id": "05a32930-649b-4e9f-98be-a54063096868",
   "metadata": {},
   "source": [
    "    (i) '/' Division operator\n",
    "         returns the quotient of the division\n",
    "    (ii) '%' Modulo operator\n",
    "         returns the remainder of the division operator\n",
    "    (iii)'//' Floor division operator\n",
    "         returns the quotient of the division and rounded to the nearest interger\n",
    "    (iv)'**' Exponentiation operator\n",
    "         returns the number to the power of the number"
   ]
  },
  {
   "cell_type": "markdown",
   "id": "393da281-ffd0-4f59-93d6-337bffb08595",
   "metadata": {},
   "source": [
    "Question 4"
   ]
  },
  {
   "cell_type": "code",
   "execution_count": 4,
   "id": "8d6be659-673f-48c5-addc-dcf4fafa6848",
   "metadata": {},
   "outputs": [
    {
     "name": "stdout",
     "output_type": "stream",
     "text": [
      "element:1 DataType: <class 'int'>\n",
      "element:2 DataType: <class 'int'>\n",
      "element:3 DataType: <class 'int'>\n",
      "element:Bhanu DataType: <class 'str'>\n",
      "element:prasad DataType: <class 'str'>\n",
      "element:6 DataType: <class 'int'>\n",
      "element:7 DataType: <class 'int'>\n",
      "element:8 DataType: <class 'int'>\n",
      "element:Raju DataType: <class 'str'>\n",
      "element:Krish DataType: <class 'str'>\n"
     ]
    }
   ],
   "source": [
    "list = [1, 2, 3, \"Bhanu\", \"prasad\", 6, 7, 8, \"Raju\", \"Krish\"]\n",
    "for i in list:\n",
    "    print(\"element:{}\".format(i), \"DataType:\", type(i))"
   ]
  },
  {
   "cell_type": "markdown",
   "id": "6a692596-1de3-4ee3-96b7-f2d9594d3db6",
   "metadata": {},
   "source": [
    "Question 5"
   ]
  },
  {
   "cell_type": "code",
   "execution_count": 17,
   "id": "3edf4e46-30bf-4300-b090-cdc40fdeb6f0",
   "metadata": {},
   "outputs": [
    {
     "name": "stdin",
     "output_type": "stream",
     "text": [
      " 20\n",
      " 6\n"
     ]
    },
    {
     "name": "stdout",
     "output_type": "stream",
     "text": [
      "No.of times:0\n"
     ]
    }
   ],
   "source": [
    "def Fun(A,B):\n",
    "    while True: \n",
    "        if A%B==0:\n",
    "            return A/B\n",
    "        else:\n",
    "            return 0\n",
    "A=int(input())\n",
    "B=int(input())\n",
    "res=Fun(A,B)\n",
    "print(f\"No.of times:{res}\")"
   ]
  },
  {
   "cell_type": "markdown",
   "id": "6a8b48fe-4277-446a-9d65-0d0539dc45cc",
   "metadata": {},
   "source": [
    "Question 6"
   ]
  },
  {
   "cell_type": "code",
   "execution_count": 16,
   "id": "1da663ce-2a88-498c-8f12-23521af933b1",
   "metadata": {},
   "outputs": [
    {
     "name": "stdout",
     "output_type": "stream",
     "text": [
      "number is not divisible by 3\n",
      "number is not divisible by 3\n",
      "number is divisible by 3\n",
      "number is not divisible by 3\n",
      "number is not divisible by 3\n",
      "number is divisible by 3\n",
      "number is not divisible by 3\n",
      "number is not divisible by 3\n",
      "number is divisible by 3\n",
      "number is not divisible by 3\n",
      "number is not divisible by 3\n",
      "number is divisible by 3\n",
      "number is not divisible by 3\n",
      "number is not divisible by 3\n",
      "number is divisible by 3\n",
      "number is not divisible by 3\n",
      "number is not divisible by 3\n",
      "number is divisible by 3\n",
      "number is not divisible by 3\n",
      "number is not divisible by 3\n",
      "number is divisible by 3\n",
      "number is not divisible by 3\n",
      "number is not divisible by 3\n",
      "number is divisible by 3\n",
      "number is not divisible by 3\n"
     ]
    }
   ],
   "source": [
    "list=[1,2,3,4,5,6,7,8,9,10,11,12,13,14,15,16,17,18,19,20,21,22,23,24,25]\n",
    "for i in list:\n",
    "    if i%3 == 0:\n",
    "        print(\"number is divisible by 3\")\n",
    "    else:\n",
    "        print(\"number is not divisible by 3\")"
   ]
  },
  {
   "cell_type": "markdown",
   "id": "99de5987-4b27-41e4-9f61-4e32b2802fca",
   "metadata": {},
   "source": [
    "Question 7"
   ]
  },
  {
   "cell_type": "markdown",
   "id": "9e0fa762-5b4d-4231-be52-d35990a92e9c",
   "metadata": {},
   "source": [
    "    Mutable: the values of an object is changed after it is created \n",
    "    eg:list\n",
    "    Immutable: the values of the objects cannot be changed after an object is created\n",
    "    eg:string"
   ]
  },
  {
   "cell_type": "code",
   "execution_count": null,
   "id": "dfa2bee2-0f83-4a46-bc89-1a79533893e7",
   "metadata": {},
   "outputs": [],
   "source": []
  }
 ],
 "metadata": {
  "kernelspec": {
   "display_name": "Python 3 (ipykernel)",
   "language": "python",
   "name": "python3"
  },
  "language_info": {
   "codemirror_mode": {
    "name": "ipython",
    "version": 3
   },
   "file_extension": ".py",
   "mimetype": "text/x-python",
   "name": "python",
   "nbconvert_exporter": "python",
   "pygments_lexer": "ipython3",
   "version": "3.10.8"
  }
 },
 "nbformat": 4,
 "nbformat_minor": 5
}
