{
 "cells": [
  {
   "cell_type": "markdown",
   "id": "319ba47c-22db-445c-a844-8ec22d156ebd",
   "metadata": {},
   "source": [
    " Q1. How do you comment code in Python? What are the different types of comments?"
   ]
  },
  {
   "cell_type": "markdown",
   "id": "bb724fae-f63b-4244-b606-e31d43667a77",
   "metadata": {},
   "source": [
    " Basically comments are used to explain the code and that are not executable in program"
   ]
  },
  {
   "cell_type": "markdown",
   "id": "adf5f1af-96a8-4b53-9b13-eab8a9f12585",
   "metadata": {},
   "source": [
    " There are mainly two types of comments in python:"
   ]
  },
  {
   "cell_type": "markdown",
   "id": "ddb7c27d-9b97-4e4b-bfab-a179bc76c7d3",
   "metadata": {},
   "source": [
    "They are: 1)Single line comments\n",
    "          2)Multi-line comments"
   ]
  },
  {
   "cell_type": "markdown",
   "id": "79c016d7-8b68-4f92-b0ed-9dd2b8d24165",
   "metadata": {},
   "source": [
    " Single line comments are represented by ''#'"
   ]
  },
  {
   "cell_type": "markdown",
   "id": "c9374b2d-9a95-4e53-ac67-1017f121492d",
   "metadata": {},
   "source": [
    " Multi line comments are reresented by \" ''' \" as starting and ending of the statements"
   ]
  },
  {
   "cell_type": "markdown",
   "id": "b4bb9066-c39a-4b82-b254-1474604c3401",
   "metadata": {},
   "source": [
    "Q2. What are variables in Python? How do you declare and assign values to variables?"
   ]
  },
  {
   "cell_type": "markdown",
   "id": "f48c4fba-ce26-4df9-bb0d-2cc4dfb394da",
   "metadata": {},
   "source": [
    " variables are used to store data values. Unlike some other programming languages, Python is dynamically typed, which means you don't need to declare the type of a variable when you create one ."
   ]
  },
  {
   "cell_type": "code",
   "execution_count": 1,
   "id": "dd767f99-2736-4f77-af38-bcc6af21d4e5",
   "metadata": {},
   "outputs": [],
   "source": [
    "x = 5"
   ]
  },
  {
   "cell_type": "code",
   "execution_count": 2,
   "id": "74c70091-4033-47be-b28b-035d7c0a8524",
   "metadata": {},
   "outputs": [],
   "source": [
    "y = 22.6"
   ]
  },
  {
   "cell_type": "code",
   "execution_count": 3,
   "id": "4dcb3e3b-d795-4664-a008-f7895cf51c64",
   "metadata": {},
   "outputs": [],
   "source": [
    "z = \"Bhanu\""
   ]
  },
  {
   "cell_type": "markdown",
   "id": "e633c2b5-e26a-4f93-ba5a-07fd5c760a99",
   "metadata": {},
   "source": [
    "Q3. How do you convert one data type to another in Python?"
   ]
  },
  {
   "cell_type": "markdown",
   "id": "ac69fe17-7a1c-44c6-9126-3b44ddc18b3e",
   "metadata": {},
   "source": [
    " we can convert one data type to another in python by using implicit conversion and explicit conversion"
   ]
  },
  {
   "cell_type": "markdown",
   "id": "1938dfe4-1c7c-42c0-8cd1-307710403b57",
   "metadata": {},
   "source": [
    " implicit conversions are used to convert automatically where as explicit conversions are converted by type casting"
   ]
  },
  {
   "cell_type": "markdown",
   "id": "886b5a90-0590-4911-9a03-82c209614d6c",
   "metadata": {},
   "source": [
    "Q4. How do you write and execute a Python script from the command line?"
   ]
  },
  {
   "cell_type": "markdown",
   "id": "dacfb612-1f94-4f2d-aa42-101913577fc2",
   "metadata": {},
   "source": [
    " 1.create a python script: by using .py extension"
   ]
  },
  {
   "cell_type": "markdown",
   "id": "39cee35d-fdb2-4476-9fac-9eb9e1ad989d",
   "metadata": {},
   "source": [
    " 2.save the script and open command line"
   ]
  },
  {
   "cell_type": "markdown",
   "id": "4d14ada5-e9da-4244-90b4-2d5feee2659b",
   "metadata": {},
   "source": [
    " 3.Navigate to the directory and execute the script"
   ]
  },
  {
   "cell_type": "markdown",
   "id": "308d6c39-ad1c-441d-8f82-43168c8f2350",
   "metadata": {},
   "source": [
    " Q5. Given a list my_list = [1, 2, 3, 4, 5], write the code to slice the list and obtain the sub-list [2, 3]."
   ]
  },
  {
   "cell_type": "code",
   "execution_count": 4,
   "id": "915ca359-a030-4ced-ad42-7977346f1e59",
   "metadata": {},
   "outputs": [],
   "source": [
    "my_list = [1,2,3,4,5]"
   ]
  },
  {
   "cell_type": "code",
   "execution_count": 5,
   "id": "dd0d6746-5a04-4b21-932b-932779c509f4",
   "metadata": {},
   "outputs": [
    {
     "data": {
      "text/plain": [
       "[2, 3]"
      ]
     },
     "execution_count": 5,
     "metadata": {},
     "output_type": "execute_result"
    }
   ],
   "source": [
    "my_list[1:3]"
   ]
  },
  {
   "cell_type": "markdown",
   "id": "c2bfa619-8d97-4f1b-a307-bc41b23e55c0",
   "metadata": {},
   "source": [
    "Q6. What is a complex number in mathematics, and how is it represented in Python?"
   ]
  },
  {
   "cell_type": "markdown",
   "id": "c7d9a72d-c0ac-4c80-b30d-287383b975fd",
   "metadata": {},
   "source": [
    " In mathematics complex number is a combination of real numbers and  imaginary number,Complex numbers are used to represent quantities that involve the square roots of negative numbers"
   ]
  },
  {
   "cell_type": "markdown",
   "id": "70f6314e-8da5-495c-9104-a597e9b6a82a",
   "metadata": {},
   "source": [
    " In Python, complex numbers are represented using the complex data type. You can create a complex number by using the complex() constructor or by directly writing the number in the form a + bj, where 'a' is the real part, 'b' is the imaginary part, and 'j' represents the imaginary unit."
   ]
  },
  {
   "cell_type": "code",
   "execution_count": 6,
   "id": "37b15075-bc1f-4f03-938d-f247676ad312",
   "metadata": {},
   "outputs": [],
   "source": [
    "z = complex(2,3)"
   ]
  },
  {
   "cell_type": "code",
   "execution_count": 7,
   "id": "2081967b-1b5e-432f-9b07-430d117c1834",
   "metadata": {},
   "outputs": [],
   "source": [
    "z3 = 4 + 5j"
   ]
  },
  {
   "cell_type": "markdown",
   "id": "99d56c45-e31c-4203-b419-e06761afffc3",
   "metadata": {},
   "source": [
    "Q7. What is the correct way to declare a variable named age and assign the value 25 to it?"
   ]
  },
  {
   "cell_type": "code",
   "execution_count": 8,
   "id": "5fc34cae-abb3-494c-bdc5-83ef1729c072",
   "metadata": {},
   "outputs": [],
   "source": [
    " age = 25"
   ]
  },
  {
   "cell_type": "markdown",
   "id": "8c54d4db-ef8a-4c9e-9709-4cfeb8bd761f",
   "metadata": {},
   "source": [
    " Q8. Declare a variable named price and assign the value 9.99 to it. What data type does this variable\n",
    "belong to?"
   ]
  },
  {
   "cell_type": "code",
   "execution_count": 9,
   "id": "6c577238-58c8-4fed-96de-25ef795dbcb3",
   "metadata": {},
   "outputs": [],
   "source": [
    "price = 9.99"
   ]
  },
  {
   "cell_type": "code",
   "execution_count": 10,
   "id": "e57168e4-4189-4ebf-afc3-2b5f79d50b37",
   "metadata": {},
   "outputs": [
    {
     "data": {
      "text/plain": [
       "float"
      ]
     },
     "execution_count": 10,
     "metadata": {},
     "output_type": "execute_result"
    }
   ],
   "source": [
    "type(price)"
   ]
  },
  {
   "cell_type": "markdown",
   "id": "1a73ba98-fa48-4952-b0bd-471a37abb5bb",
   "metadata": {},
   "source": [
    " Q9. Create a variable named name and assign your full name to it as a string. How would you print the\n",
    "value of this variable?"
   ]
  },
  {
   "cell_type": "code",
   "execution_count": 11,
   "id": "257bbeae-0523-4ea1-9f20-e4f1b4e8052b",
   "metadata": {},
   "outputs": [],
   "source": [
    " name = \"Bhanu Prasad\""
   ]
  },
  {
   "cell_type": "code",
   "execution_count": 12,
   "id": "f7a8a007-12b4-42e0-a703-11f263e2545f",
   "metadata": {},
   "outputs": [
    {
     "data": {
      "text/plain": [
       "'Bhanu Prasad'"
      ]
     },
     "execution_count": 12,
     "metadata": {},
     "output_type": "execute_result"
    }
   ],
   "source": [
    "name"
   ]
  },
  {
   "cell_type": "markdown",
   "id": "c10edb04-a914-4d76-bcbe-73f7afde91d3",
   "metadata": {},
   "source": [
    " Q10. Given the string \"Hello, World!\", extract the substring \"World\"."
   ]
  },
  {
   "cell_type": "code",
   "execution_count": 13,
   "id": "0503dd1a-ee52-460d-b5a0-096567bf9cbe",
   "metadata": {},
   "outputs": [],
   "source": [
    "string = \"Hello World!\""
   ]
  },
  {
   "cell_type": "code",
   "execution_count": 14,
   "id": "7d0a7fe2-1d87-4fff-9adc-d15690b2c307",
   "metadata": {},
   "outputs": [
    {
     "data": {
      "text/plain": [
       "'Hello World!'"
      ]
     },
     "execution_count": 14,
     "metadata": {},
     "output_type": "execute_result"
    }
   ],
   "source": [
    "string"
   ]
  },
  {
   "cell_type": "code",
   "execution_count": 16,
   "id": "ed12a54d-f200-470f-9274-2f86b3c6c6a9",
   "metadata": {},
   "outputs": [
    {
     "data": {
      "text/plain": [
       "'World'"
      ]
     },
     "execution_count": 16,
     "metadata": {},
     "output_type": "execute_result"
    }
   ],
   "source": [
    "string[6:11]"
   ]
  },
  {
   "cell_type": "markdown",
   "id": "4e329b42-ed55-4041-9edd-c3de88682fbd",
   "metadata": {},
   "source": [
    "Q11. Create a variable named \"is_student\" and assign it a boolean value indicating whether you are\n",
    "currently a student or not."
   ]
  },
  {
   "cell_type": "code",
   "execution_count": 17,
   "id": "566082ca-0f24-4675-b708-cd7ddc641554",
   "metadata": {},
   "outputs": [],
   "source": [
    "is_student = True #assuming if you are a student"
   ]
  },
  {
   "cell_type": "markdown",
   "id": "b97723fd-7a0b-4b66-a06f-8eeb8beb64ee",
   "metadata": {},
   "source": [
    " or"
   ]
  },
  {
   "cell_type": "code",
   "execution_count": 18,
   "id": "c7738c9c-4257-4f41-aa50-fd0247899273",
   "metadata": {},
   "outputs": [],
   "source": [
    "is_student = False #assuming if you are not a student"
   ]
  },
  {
   "cell_type": "code",
   "execution_count": null,
   "id": "d05d0f14-6991-4252-a356-16d67399c8b9",
   "metadata": {},
   "outputs": [],
   "source": []
  }
 ],
 "metadata": {
  "kernelspec": {
   "display_name": "Python 3 (ipykernel)",
   "language": "python",
   "name": "python3"
  },
  "language_info": {
   "codemirror_mode": {
    "name": "ipython",
    "version": 3
   },
   "file_extension": ".py",
   "mimetype": "text/x-python",
   "name": "python",
   "nbconvert_exporter": "python",
   "pygments_lexer": "ipython3",
   "version": "3.10.8"
  }
 },
 "nbformat": 4,
 "nbformat_minor": 5
}
