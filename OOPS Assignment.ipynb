{
 "cells": [
  {
   "cell_type": "markdown",
   "id": "d501bd6b-36dc-48b4-b239-5b308e4b13a9",
   "metadata": {},
   "source": [
    "## question 1:"
   ]
  },
  {
   "cell_type": "markdown",
   "id": "089040b9-3b2a-4bf5-825a-136f38fe835f",
   "metadata": {},
   "source": [
    "# class:"
   ]
  },
  {
   "cell_type": "markdown",
   "id": "014e4989-b915-4108-bd93-26635104d618",
   "metadata": {},
   "source": [
    "A class in Object-Oriented Programming (OOP) is a blueprint or template for creating objects. It defines a set of attributes and methods that the created objects will have. "
   ]
  },
  {
   "cell_type": "markdown",
   "id": "d5416f08-c033-42fa-99d3-89dcfd3fd776",
   "metadata": {},
   "source": [
    "# object:\n"
   ]
  },
  {
   "cell_type": "markdown",
   "id": "256d9e1f-530c-429c-9ef5-6172cab59e14",
   "metadata": {},
   "source": [
    "An object is an instance of a class,containing actual values for the attributes and being capable of executing the methods defined in the class"
   ]
  },
  {
   "cell_type": "markdown",
   "id": "f4171007-148f-497d-acf6-7295e67e8454",
   "metadata": {},
   "source": [
    "## example:\n"
   ]
  },
  {
   "cell_type": "code",
   "execution_count": 6,
   "id": "cbc5e9b9-abfc-436e-abd7-8c48a453b870",
   "metadata": {},
   "outputs": [],
   "source": [
    "class pwskills:  #creating a class \n",
    "    def __init__(self, name, age):\n",
    "        self.name = name\n",
    "        self.age = age"
   ]
  },
  {
   "cell_type": "code",
   "execution_count": 9,
   "id": "dedbf868-e9cf-414f-80eb-f0b63989352f",
   "metadata": {},
   "outputs": [],
   "source": [
    "pw = pwskills(bhanu,22)  #pw is creating an object"
   ]
  },
  {
   "cell_type": "code",
   "execution_count": 10,
   "id": "928abdb9-45aa-45b2-839a-4bcc7c913fda",
   "metadata": {},
   "outputs": [
    {
     "data": {
      "text/plain": [
       "__main__.bhanu"
      ]
     },
     "execution_count": 10,
     "metadata": {},
     "output_type": "execute_result"
    }
   ],
   "source": [
    "pw.name"
   ]
  },
  {
   "cell_type": "markdown",
   "id": "ff2e27a8-4db6-499b-b94d-c2811471203b",
   "metadata": {},
   "source": [
    "## question 2:\n"
   ]
  },
  {
   "cell_type": "markdown",
   "id": "738c9535-995e-4921-b782-fd2c15ddab6f",
   "metadata": {},
   "source": [
    "1. Encapsulation\n",
    "2. Abstraction\n",
    "3. polymorphism\n",
    "4. inheritance"
   ]
  },
  {
   "cell_type": "markdown",
   "id": "de177fb5-a2b9-4cd6-b72e-3e74eee474a1",
   "metadata": {},
   "source": [
    "## question 3:"
   ]
  },
  {
   "cell_type": "markdown",
   "id": "ed7e1dd4-0b72-4c7b-8520-03161151970e",
   "metadata": {},
   "source": [
    "__init__():\n",
    "The __init__() function, commonly referred to as the constructor, is a special method in Python classes. It is automatically invoked when a new object of the class is create"
   ]
  },
  {
   "cell_type": "code",
   "execution_count": 11,
   "id": "ba4e88b7-9ff1-4aad-9272-265ce4a783c7",
   "metadata": {},
   "outputs": [],
   "source": [
    "class Person:\n",
    "    def __init__(self, name, age):\n",
    "        self.name = name\n",
    "        self.age = age\n",
    "    \n",
    "    def greet(self):\n",
    "        return f\"Hello, my name is {self.name} and I am {self.age} years old.\"\n"
   ]
  },
  {
   "cell_type": "code",
   "execution_count": 12,
   "id": "ec2e4a5b-cc87-43f0-b107-37821679ef25",
   "metadata": {},
   "outputs": [
    {
     "name": "stdout",
     "output_type": "stream",
     "text": [
      "Hello, my name is bhanu and I am 30 years old.\n"
     ]
    }
   ],
   "source": [
    "person1 = Person(\"bhanu\", 30)\n",
    "print(person1.greet()) "
   ]
  },
  {
   "cell_type": "markdown",
   "id": "f4c8851d-1eba-4678-959d-3a8567350658",
   "metadata": {},
   "source": [
    "# question 4:"
   ]
  },
  {
   "cell_type": "markdown",
   "id": "b0a4e970-38a3-402b-bf2c-4887ec56ce89",
   "metadata": {},
   "source": [
    "In Object-Oriented Programming (OOP) in Python, the self keyword is used to refer to the instance of the class on which a method is being called. it is used to point to the current object"
   ]
  },
  {
   "cell_type": "markdown",
   "id": "fd28d0ec-5f75-462f-88e5-e9fa91f5274e",
   "metadata": {},
   "source": [
    "## question 5:"
   ]
  },
  {
   "cell_type": "markdown",
   "id": "57be8cb4-0fc2-4d50-bae7-7cfbab577816",
   "metadata": {},
   "source": [
    "Inheritance is a fundamental concept in object-oriented programming (OOP) that allows a class to inherit properties and behaviors (attributes and methods) from another class.\n",
    "child class is derived from the parent class\n",
    "\n"
   ]
  },
  {
   "cell_type": "code",
   "execution_count": 13,
   "id": "5cc36f4c-012d-463a-94e0-1f3b41163712",
   "metadata": {},
   "outputs": [],
   "source": [
    "# Parent class\n",
    "class Animal:\n",
    "    def speak(self):\n",
    "        return \"Animal sound\"\n",
    "\n",
    "# Child class\n",
    "class Dog(Animal):\n",
    "    def bark(self):\n",
    "        return \"Woof!\"\n"
   ]
  },
  {
   "cell_type": "code",
   "execution_count": null,
   "id": "6bb3480e-a8da-446b-b36d-2d835eeb37c9",
   "metadata": {},
   "outputs": [],
   "source": []
  }
 ],
 "metadata": {
  "kernelspec": {
   "display_name": "Python 3 (ipykernel)",
   "language": "python",
   "name": "python3"
  },
  "language_info": {
   "codemirror_mode": {
    "name": "ipython",
    "version": 3
   },
   "file_extension": ".py",
   "mimetype": "text/x-python",
   "name": "python",
   "nbconvert_exporter": "python",
   "pygments_lexer": "ipython3",
   "version": "3.10.8"
  }
 },
 "nbformat": 4,
 "nbformat_minor": 5
}
